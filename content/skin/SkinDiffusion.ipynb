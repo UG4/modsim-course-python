{
 "cells": [
  {
   "cell_type": "markdown",
   "metadata": {},
   "source": [
    "[<img src=\"../header.svg\">](../index.ipynb)\n",
    "\n",
    "---"
   ]
  },
  {
   "cell_type": "markdown",
   "metadata": {},
   "source": [
    "# Application: Simulation of Drug Transport across a Virtual Skin Membrane"
   ]
  },
  {
   "cell_type": "markdown",
   "metadata": {},
   "source": [
    "### Preliminaries"
   ]
  },
  {
   "cell_type": "code",
   "execution_count": 1,
   "metadata": {},
   "outputs": [
    {
     "name": "stdout",
     "output_type": "stream",
     "text": [
      "['/home/jovyan/content/skin', '/opt/conda/lib/python310.zip', '/opt/conda/lib/python3.10', '/opt/conda/lib/python3.10/lib-dynload', '', '/opt/conda/lib/python3.10/site-packages', '/home/jovyan/ug4/lib/', '/home/jovyan/ug4/bin/plugins/ug4py']\n"
     ]
    },
    {
     "ename": "ModuleNotFoundError",
     "evalue": "No module named 'ug4py'",
     "output_type": "error",
     "traceback": [
      "\u001b[0;31m---------------------------------------------------------------------------\u001b[0m",
      "\u001b[0;31mModuleNotFoundError\u001b[0m                       Traceback (most recent call last)",
      "Cell \u001b[0;32mIn[1], line 1\u001b[0m\n\u001b[0;32m----> 1\u001b[0m \u001b[38;5;28;01mimport\u001b[39;00m \u001b[38;5;21;01mmodsimtools\u001b[39;00m\n\u001b[1;32m      2\u001b[0m \u001b[38;5;28;01mfrom\u001b[39;00m \u001b[38;5;21;01mmodsimtools\u001b[39;00m \u001b[38;5;28;01mimport\u001b[39;00m \u001b[38;5;241m*\u001b[39m\n",
      "File \u001b[0;32m~/content/skin/modsimtools.py:9\u001b[0m\n\u001b[1;32m      6\u001b[0m sys\u001b[38;5;241m.\u001b[39mpath\u001b[38;5;241m.\u001b[39mappend(env_ug4_root\u001b[38;5;241m+\u001b[39m\u001b[38;5;124m'\u001b[39m\u001b[38;5;124m/bin/plugins/ug4py\u001b[39m\u001b[38;5;124m'\u001b[39m)\n\u001b[1;32m      7\u001b[0m \u001b[38;5;28mprint\u001b[39m(sys\u001b[38;5;241m.\u001b[39mpath)\n\u001b[0;32m----> 9\u001b[0m \u001b[38;5;28;01mimport\u001b[39;00m \u001b[38;5;21;01mug4py\u001b[39;00m \u001b[38;5;28;01mas\u001b[39;00m \u001b[38;5;21;01mug4\u001b[39;00m\n\u001b[1;32m     10\u001b[0m \u001b[38;5;28;01mimport\u001b[39;00m \u001b[38;5;21;01mpylimex\u001b[39;00m \u001b[38;5;28;01mas\u001b[39;00m \u001b[38;5;21;01mlimex\u001b[39;00m\n\u001b[1;32m     11\u001b[0m \u001b[38;5;28;01mimport\u001b[39;00m \u001b[38;5;21;01mpyconvectiondiffusion\u001b[39;00m \u001b[38;5;28;01mas\u001b[39;00m \u001b[38;5;21;01mcd\u001b[39;00m\n",
      "\u001b[0;31mModuleNotFoundError\u001b[0m: No module named 'ug4py'"
     ]
    }
   ],
   "source": [
    "import modsimtools\n",
    "from modsimtools import *"
   ]
  },
  {
   "cell_type": "code",
   "execution_count": 33,
   "metadata": {},
   "outputs": [
    {
     "name": "stdout",
     "output_type": "stream",
     "text": [
      "Overwriting modsimtools.py\n"
     ]
    }
   ],
   "source": [
    "%%writefile modsimtools.py\n",
    "\n",
    "import os\n",
    "env_ug4_root = os.environ['UG4_ROOT']\n",
    "import sys\n",
    "sys.path.append(env_ug4_root+'/lib/')\n",
    "sys.path.append(env_ug4_root+'/bin/plugins/ug4py')"
   ]
  },
  {
   "cell_type": "markdown",
   "metadata": {},
   "source": [
    "### Create some widgets"
   ]
  },
  {
   "cell_type": "code",
   "execution_count": 34,
   "metadata": {},
   "outputs": [
    {
     "data": {
      "application/vnd.jupyter.widget-view+json": {
       "model_id": "75d53c5c29ba42db84af612c2724d714",
       "version_major": 2,
       "version_minor": 0
      },
      "text/plain": [
       "Select(description='Geometry:', options=('skin2d-aniso.ugx', 'skin2d-aniso2.ugx', 'skin2d-aniso3.ugx'), rows=1…"
      ]
     },
     "metadata": {},
     "output_type": "display_data"
    },
    {
     "data": {
      "application/vnd.jupyter.widget-view+json": {
       "model_id": "1aa96ed5ee0d458eaca696efed309bbc",
       "version_major": 2,
       "version_minor": 0
      },
      "text/plain": [
       "BoundedIntText(value=2, description='Refinements:', max=5)"
      ]
     },
     "metadata": {},
     "output_type": "display_data"
    }
   ],
   "source": [
    "import ipywidgets as widgets\n",
    "from ipywidgets import interact, interactive, fixed, interact_manual\n",
    "from IPython.display import display\n",
    "\n",
    "s = widgets.Select(\n",
    "    options=['skin2d-aniso.ugx', 'skin2d-aniso2.ugx', 'skin2d-aniso3.ugx'],\n",
    "    value='skin2d-aniso.ugx', rows=1,\n",
    "    description='Geometry:', disabled=False)\n",
    "\n",
    "r = widgets.BoundedIntText(\n",
    "    value=2, min=0, max=5,\n",
    "    step=1, description='Refinements:',\n",
    "    disabled=False)\n",
    "\n",
    "display(s)\n",
    "display(r)"
   ]
  },
  {
   "cell_type": "markdown",
   "metadata": {},
   "source": [
    "## Solve problem"
   ]
  },
  {
   "cell_type": "code",
   "execution_count": 35,
   "metadata": {},
   "outputs": [
    {
     "name": "stdout",
     "output_type": "stream",
     "text": [
      "Appending to modsimtools.py\n"
     ]
    }
   ],
   "source": [
    "%%writefile -a modsimtools.py\n",
    "\n",
    "import ug4py as ug4\n",
    "import pylimex as limex\n",
    "import pyconvectiondiffusion as cd\n",
    "import pysuperlu as slu"
   ]
  },
  {
   "cell_type": "code",
   "execution_count": 36,
   "metadata": {},
   "outputs": [],
   "source": [
    "# Setup:\n",
    "# defining needed subsets, gird and number of refinements\n",
    "requiredSubsets = [\"LIP\", \"COR\", \"BOTTOM_SC\", \"TOP_SC\"] # defining subsets\n",
    "gridName = s.value  # Grid created with ProMesh\n",
    "numRefs = r.value   # Number of Refinement steps on given grid"
   ]
  },
  {
   "cell_type": "code",
   "execution_count": 37,
   "metadata": {},
   "outputs": [
    {
     "name": "stdout",
     "output_type": "stream",
     "text": [
      "Appending to modsimtools.py\n"
     ]
    }
   ],
   "source": [
    "%%writefile -a modsimtools.py\n",
    "\n",
    "def CreateDomain(gridName, numRefs, requiredSubsets):\n",
    "    # Choosing a domain object\n",
    "    # (either 1d, 2d or 3d suffix)\n",
    "    dom = ug4.Domain2d()\n",
    "\n",
    "    # Loading the given grid into the domain\n",
    "    print(\"Loading Domain {gridName}...\")\n",
    "    ug4.LoadDomain(dom, gridName)\n",
    "    print(\"Domain loaded.\")\n",
    "    \n",
    "    \n",
    "    # Optional: Refining the grid\n",
    "    if numRefs > 0:\n",
    "        print(\"Refining ...\")\n",
    "        refiner = ug4.GlobalDomainRefiner(dom)\n",
    "        for i in range(numRefs):\n",
    "            ug4.TerminateAbortedRun()\n",
    "            refiner.refine()\n",
    "            print(\"Refining step {i} ...\")\n",
    "\n",
    "        print(\"Refining done\")\n",
    "\n",
    "    # checking if geometry has the needed subsets of the probelm\n",
    "    sh = dom.subset_handler()\n",
    "    for e in requiredSubsets:\n",
    "        if sh.get_subset_index(e) == -1:\n",
    "            print(f\"Domain does not contain subset {e}.\")\n",
    "            sys.exit(1)\n",
    "    \n",
    "    return dom"
   ]
  },
  {
   "cell_type": "code",
   "execution_count": 38,
   "metadata": {},
   "outputs": [
    {
     "name": "stdout",
     "output_type": "stream",
     "text": [
      "Loading Domain {gridName}...\n",
      "Domain loaded.\n",
      "Refining ...\n",
      "Refining step {i} ...\n",
      "Refining step {i} ...\n",
      "Refining done\n"
     ]
    }
   ],
   "source": [
    "#from modsimtools import CreateDomain\n",
    "dom = CreateDomain(gridName, numRefs, requiredSubsets)"
   ]
  },
  {
   "cell_type": "markdown",
   "metadata": {},
   "source": [
    "### Create Approximation space"
   ]
  },
  {
   "cell_type": "code",
   "execution_count": 39,
   "metadata": {},
   "outputs": [],
   "source": [
    "# Create approximation space which describes the unknowns in the equation\n",
    "approxSpaceDesc = dict(fct = \"u\", type = \"Lagrange\", order = 1)"
   ]
  },
  {
   "cell_type": "code",
   "execution_count": 40,
   "metadata": {},
   "outputs": [
    {
     "name": "stdout",
     "output_type": "stream",
     "text": [
      "Appending to modsimtools.py\n"
     ]
    }
   ],
   "source": [
    "%%writefile -a modsimtools.py\n",
    "\n",
    "def CreateApproximationSpace(dom, approxSpaceDesc):\n",
    "    approxSpace = ug4.ApproximationSpace2d(dom)\n",
    "    approxSpace.add_fct(approxSpaceDesc[\"fct\"], approxSpaceDesc[\"type\"], approxSpaceDesc[\"order\"])\n",
    "    approxSpace.init_levels()\n",
    "    approxSpace.init_top_surface()\n",
    "    print(\"Approximation space:\")\n",
    "    approxSpace.print_statistic()\n",
    "    return approxSpace"
   ]
  },
  {
   "cell_type": "code",
   "execution_count": 41,
   "metadata": {},
   "outputs": [
    {
     "name": "stdout",
     "output_type": "stream",
     "text": [
      "Approximation space:\n",
      "| ----------------------------------------------------------------------------------------- |\n",
      "|  Number of DoFs (All Procs)                                                               |\n",
      "|  Algebra: Block 1 (divide by 1 for #Index)                                                |\n",
      "|                                                                                           |\n",
      "|    GridLevel   |       Domain |       0: LIP |       1: COR | 2: BOTTOM_SC |    3: TOP_SC |\n",
      "| ----------------------------------------------------------------------------------------- |\n",
      "| (lev,    0)    |          680 |           32 |          608 |           20 |           20 |\n",
      "| (lev,    1)    |         2613 |          783 |         1752 |           39 |           39 |\n",
      "| (lev,    2)    |        10241 |         4367 |         5720 |           77 |           77 |\n",
      "| (lev,    0, g) |          680 |           32 |          608 |           20 |           20 |\n",
      "| (lev,    1, g) |         2613 |          783 |         1752 |           39 |           39 |\n",
      "| (lev,    2, g) |        10241 |         4367 |         5720 |           77 |           77 |\n",
      "| (surf, top)    |        10241 |         4367 |         5720 |           77 |           77 |\n",
      "| ----------------------------------------------------------------------------------------- |\n",
      "| For Legend and Options: print_statistic(\"legend\").                                        |\n",
      "| ----------------------------------------------------------------------------------------- |\n"
     ]
    }
   ],
   "source": [
    "approxSpace = CreateApproximationSpace(dom, approxSpaceDesc)"
   ]
  },
  {
   "cell_type": "markdown",
   "metadata": {},
   "source": [
    "## Create a convection-diffusion-equation\n",
    "$$\\frac{\\partial Ku}{\\partial t} + \\nabla \\cdot [-DK \\nabla u] = 0$$\n",
    "Partition coefficients"
   ]
  },
  {
   "cell_type": "code",
   "execution_count": 42,
   "metadata": {},
   "outputs": [],
   "source": [
    "K={}\n",
    "K[\"COR\"]=1e-3\n",
    "K[\"LIP\"]=1.0"
   ]
  },
  {
   "cell_type": "markdown",
   "metadata": {},
   "source": [
    "Diffusion coefficients"
   ]
  },
  {
   "cell_type": "code",
   "execution_count": 43,
   "metadata": {},
   "outputs": [],
   "source": [
    "D={}\n",
    "D[\"COR\"]=1.0\n",
    "D[\"LIP\"]=1.0"
   ]
  },
  {
   "cell_type": "markdown",
   "metadata": {},
   "source": [
    "Creating two instances of a convection diffusion equation"
   ]
  },
  {
   "cell_type": "code",
   "execution_count": 44,
   "metadata": {},
   "outputs": [
    {
     "name": "stdout",
     "output_type": "stream",
     "text": [
      "Appending to modsimtools.py\n"
     ]
    }
   ],
   "source": [
    "%%writefile -a modsimtools.py\n",
    "\n",
    "def CreateDiffusionElemDisc(fname, subdom, mass_scale, diffusion, reaction):\n",
    "    elemDisc = cd.ConvectionDiffusionFV12d(fname, subdom)\n",
    "    elemDisc.set_mass_scale(mass_scale)\n",
    "    elemDisc.set_diffusion(diffusion)\n",
    "    elemDisc.set_reaction(reaction)\n",
    "    return elemDisc"
   ]
  },
  {
   "cell_type": "code",
   "execution_count": 45,
   "metadata": {},
   "outputs": [],
   "source": [
    "elemDisc={}\n",
    "elemDisc[\"COR\"] = CreateDiffusionElemDisc(\"u\", \"COR\", K[\"COR\"], K[\"COR\"]*D[\"COR\"], 0.0)\n",
    "elemDisc[\"LIP\"] = CreateDiffusionElemDisc(\"u\", \"LIP\", K[\"LIP\"], K[\"LIP\"]*D[\"LIP\"], 0.0)"
   ]
  },
  {
   "cell_type": "markdown",
   "metadata": {},
   "source": [
    "### Boundary conditions\n",
    "ug4 separates the boundary value and the discretization\n",
    "boundary conditions can be enforced through a post-process (dirichlet).\n",
    "To init at boundary, the value, function name from the Approximationspace\n",
    "#and the subset name are needed"
   ]
  },
  {
   "cell_type": "code",
   "execution_count": 46,
   "metadata": {},
   "outputs": [],
   "source": [
    "dirichletBND = ug4.DirichletBoundary2dCPU1()\n",
    "dirichletBND.add(1.0, \"u\", \"TOP_SC\")\n",
    "dirichletBND.add(0.0, \"u\", \"BOTTOM_SC\")"
   ]
  },
  {
   "cell_type": "markdown",
   "metadata": {},
   "source": [
    "### Global discretization\n",
    "Create the discretization object which combines all the separate discretizations into one domain discretization."
   ]
  },
  {
   "cell_type": "code",
   "execution_count": 47,
   "metadata": {},
   "outputs": [],
   "source": [
    "domainDisc = ug4.DomainDiscretization2dCPU1(approxSpace)\n",
    "domainDisc.add(elemDisc[\"COR\"])\n",
    "domainDisc.add(elemDisc[\"LIP\"])\n",
    "domainDisc.add(dirichletBND)"
   ]
  },
  {
   "cell_type": "markdown",
   "metadata": {},
   "source": [
    "## Create  solver"
   ]
  },
  {
   "cell_type": "code",
   "execution_count": 48,
   "metadata": {},
   "outputs": [],
   "source": [
    "lsolver=ug4.LUCPU1()\n",
    "# lsolver=slu.SuperLUCPU1()"
   ]
  },
  {
   "cell_type": "markdown",
   "metadata": {},
   "source": [
    "## Solve transient problem\n",
    "\n",
    "Solve the transient problem.\n",
    "Use the Approximationspace to create a vector of unknowns and a vector which contains the right hand side"
   ]
  },
  {
   "cell_type": "code",
   "execution_count": 49,
   "metadata": {
    "scrolled": true
   },
   "outputs": [],
   "source": [
    "# Define start time, end time and step size\n",
    "startTime = 0.0\n",
    "endTime = 1000.0\n",
    "dt = 25.0"
   ]
  },
  {
   "cell_type": "markdown",
   "metadata": {},
   "source": [
    "Create a time discretization (with the theta-scheme).\n",
    "Requires domain and theta ($\\theta$ = 1.0 -> implicit Euler, \n",
    "$\\theta$ = 0.0 -> explicit Euler )\n"
   ]
  },
  {
   "cell_type": "code",
   "execution_count": 50,
   "metadata": {},
   "outputs": [],
   "source": [
    "timeDisc=ug4.ThetaTimeStepCPU1(domainDisc, 1.0) "
   ]
  },
  {
   "cell_type": "markdown",
   "metadata": {},
   "source": [
    "Create time integrator (requires solver and step size)."
   ]
  },
  {
   "cell_type": "code",
   "execution_count": 51,
   "metadata": {},
   "outputs": [],
   "source": [
    "timeInt = limex.LinearTimeIntegrator2dCPU1(timeDisc)\n",
    "#timeInt = limex.ConstStepLinearTimeIntegrator2dCPU1(timeDisc)\n",
    "timeInt.set_linear_solver(lsolver)\n",
    "timeInt.set_time_step(dt)"
   ]
  },
  {
   "cell_type": "markdown",
   "metadata": {},
   "source": [
    "Create and attach an observer object for vtk output:"
   ]
  },
  {
   "cell_type": "code",
   "execution_count": 52,
   "metadata": {},
   "outputs": [],
   "source": [
    "vtk=ug4.VTKOutput2d()\n",
    "obs=limex.VTKOutputObserver2dCPU1(\"SkinData.vtu\", vtk)\n",
    "timeInt.attach_observer(obs)"
   ]
  },
  {
   "cell_type": "markdown",
   "metadata": {},
   "source": [
    "Solving the transient problem"
   ]
  },
  {
   "cell_type": "code",
   "execution_count": 53,
   "metadata": {},
   "outputs": [],
   "source": [
    "usol = ug4.GridFunction2dCPU1(approxSpace)\n",
    "\n",
    "# Init the vector representing the unknowns with 0 to obtain\n",
    "# reproducable results\n",
    "ug4.Interpolate(0.0, usol, \"u\")\n",
    "\n",
    "# Exporting the result to a vtu-file\n",
    "# can be visualized in paraview or with a python extension\n",
    "ug4.WriteGridFunctionToVTK(usol, \"SkinData_t0000\")"
   ]
  },
  {
   "cell_type": "code",
   "execution_count": 54,
   "metadata": {},
   "outputs": [
    {
     "name": "stdout",
     "output_type": "stream",
     "text": [
      "+++ Integrating: [0, 1000]\n",
      "+++ Timestep +++1\n",
      "+++ Reassemble (t=0, dt=25)\n",
      "\n",
      "ILUT: please use 'set_ordering_algorithm(..)' in the future\n",
      "\n",
      "Using ILUT(0) on 10241 x 10241 matrix...\n",
      "[-------------------------25%----------------------50%----------------------75%----------------------] took 4.39603 s.\n",
      "+++ Timestep +++2\n",
      "+++ Timestep +++3\n",
      "+++ Timestep +++4\n",
      "+++ Timestep +++5\n",
      "+++ Timestep +++6\n",
      "+++ Timestep +++7\n",
      "+++ Timestep +++8\n",
      "+++ Timestep +++9\n",
      "+++ Timestep +++10\n",
      "+++ Timestep +++11\n",
      "+++ Timestep +++12\n",
      "+++ Timestep +++13\n",
      "+++ Timestep +++14\n",
      "+++ Timestep +++15\n",
      "+++ Timestep +++16\n",
      "+++ Timestep +++17\n",
      "+++ Timestep +++18\n",
      "+++ Timestep +++19\n",
      "+++ Timestep +++20\n",
      "+++ Timestep +++21\n",
      "+++ Timestep +++22\n",
      "+++ Timestep +++23\n",
      "+++ Timestep +++24\n",
      "+++ Timestep +++25\n",
      "+++ Timestep +++26\n",
      "+++ Timestep +++27\n",
      "+++ Timestep +++28\n",
      "+++ Timestep +++29\n",
      "+++ Timestep +++30\n",
      "+++ Timestep +++31\n",
      "+++ Timestep +++32\n",
      "+++ Timestep +++33\n",
      "+++ Timestep +++34\n",
      "+++ Timestep +++35\n",
      "+++ Timestep +++36\n",
      "+++ Timestep +++37\n",
      "+++ Timestep +++38\n",
      "+++ Timestep +++39\n",
      "+++ Timestep +++40\n"
     ]
    }
   ],
   "source": [
    "try:\n",
    "    timeInt.apply(usol, endTime, usol, startTime)\n",
    "except Exception as inst:\n",
    "    print(inst)"
   ]
  },
  {
   "cell_type": "code",
   "execution_count": null,
   "metadata": {},
   "outputs": [],
   "source": []
  },
  {
   "cell_type": "markdown",
   "metadata": {},
   "source": [
    "## Plotting the result using pyvista"
   ]
  },
  {
   "cell_type": "code",
   "execution_count": 28,
   "metadata": {
    "scrolled": true
   },
   "outputs": [
    {
     "name": "stdout",
     "output_type": "stream",
     "text": [
      "Pyvista input: \n",
      "UnstructuredGrid (0x29c45fca0)\n",
      "  N Cells:    10032\n",
      "  N Points:   10241\n",
      "  X Bounds:   0.000e+00, 3.010e+01\n",
      "  Y Bounds:   0.000e+00, 1.760e+01\n",
      "  Z Bounds:   0.000e+00, 0.000e+00\n",
      "  N Arrays:   1\n",
      "\n"
     ]
    },
    {
     "data": {
      "application/vnd.jupyter.widget-view+json": {
       "model_id": "8d0ade2bf2d64c13810b583871e136cf",
       "version_major": 2,
       "version_minor": 0
      },
      "text/plain": [
       "Widget(value=\"<iframe src='http://localhost:62023/index.html?ui=P_0x112b3bbd0_0&reconnect=auto' style='width: …"
      ]
     },
     "metadata": {},
     "output_type": "display_data"
    }
   ],
   "source": [
    "import pyvista\n",
    "result = pyvista.read('SkinData_t0000.vtu')\n",
    "\n",
    "print(\"Pyvista input: \")\n",
    "print(result)\n",
    "result.plot(scalars=\"u\", show_edges=True, cmap='coolwarm', jupyter_backend='trame' )\n",
    "#scalars=\"node_value\", categories=True"
   ]
  },
  {
   "cell_type": "code",
   "execution_count": null,
   "metadata": {},
   "outputs": [],
   "source": []
  },
  {
   "cell_type": "code",
   "execution_count": null,
   "metadata": {},
   "outputs": [],
   "source": []
  },
  {
   "cell_type": "code",
   "execution_count": null,
   "metadata": {},
   "outputs": [],
   "source": []
  },
  {
   "cell_type": "code",
   "execution_count": null,
   "metadata": {},
   "outputs": [],
   "source": []
  }
 ],
 "metadata": {
  "kernelspec": {
   "display_name": "Python 3 (ipykernel)",
   "language": "python",
   "name": "python3"
  },
  "language_info": {
   "codemirror_mode": {
    "name": "ipython",
    "version": 3
   },
   "file_extension": ".py",
   "mimetype": "text/x-python",
   "name": "python",
   "nbconvert_exporter": "python",
   "pygments_lexer": "ipython3",
   "version": "3.10.11"
  }
 },
 "nbformat": 4,
 "nbformat_minor": 2
}
